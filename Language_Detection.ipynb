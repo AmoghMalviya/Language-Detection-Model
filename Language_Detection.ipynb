{
  "cells": [
    {
      "cell_type": "markdown",
      "metadata": {
        "id": "view-in-github",
        "colab_type": "text"
      },
      "source": [
        "<a href=\"https://colab.research.google.com/github/AmoghMalviya/Language-Detection-Model/blob/main/Language_Detection.ipynb\" target=\"_parent\"><img src=\"https://colab.research.google.com/assets/colab-badge.svg\" alt=\"Open In Colab\"/></a>"
      ]
    },
    {
      "cell_type": "code",
      "execution_count": null,
      "metadata": {
        "id": "0608ePyBql0A",
        "outputId": "92eaed52-8e11-4a64-c24b-b65761b7e53b"
      },
      "outputs": [
        {
          "name": "stdout",
          "output_type": "stream",
          "text": [
            "                                                    Text Language\n",
            "0       Nature, in the broadest sense, is the natural...  English\n",
            "1      \"Nature\" can refer to the phenomena of the phy...  English\n",
            "2      The study of nature is a large, if not the onl...  English\n",
            "3      Although humans are part of nature, human acti...  English\n",
            "4      [1] The word nature is borrowed from the Old F...  English\n",
            "...                                                  ...      ...\n",
            "10332  ನಿಮ್ಮ ತಪ್ಪು ಏನು ಬಂದಿದೆಯೆಂದರೆ ಆ ದಿನದಿಂದ ನಿಮಗೆ ಒ...  Kannada\n",
            "10333  ನಾರ್ಸಿಸಾ ತಾನು ಮೊದಲಿಗೆ ಹೆಣಗಾಡುತ್ತಿದ್ದ ಮಾರ್ಗಗಳನ್...  Kannada\n",
            "10334  ಹೇಗೆ ' ನಾರ್ಸಿಸಿಸಮ್ ಈಗ ಮರಿಯನ್ ಅವರಿಗೆ ಸಂಭವಿಸಿದ ಎ...  Kannada\n",
            "10335  ಅವಳು ಈಗ ಹೆಚ್ಚು ಚಿನ್ನದ ಬ್ರೆಡ್ ಬಯಸುವುದಿಲ್ಲ ಎಂದು ...  Kannada\n",
            "10336  ಟೆರ್ರಿ ನೀವು ನಿಜವಾಗಿಯೂ ಆ ದೇವದೂತನಂತೆ ಸ್ವಲ್ಪ ಕಾಣು...  Kannada\n",
            "\n",
            "[10337 rows x 2 columns]\n"
          ]
        }
      ],
      "source": [
        "import pandas as pd\n",
        "df = pd.read_csv(\"Language Detection - Language Detection.csv\")\n",
        "print(df)"
      ]
    },
    {
      "cell_type": "code",
      "execution_count": null,
      "metadata": {
        "id": "UfmiPuGuql0D"
      },
      "outputs": [],
      "source": [
        "df=df.sample(frac=1,random_state=42)\n",
        "# .sample() method shuffles the data frame and returns a new data frame with the same rows but in a random order.\n",
        "# frac=1 means return all rows (100% of the data frame)\n",
        "# random_state=42 means we get the same random order every time we run the code\n",
        "# 42 here tells us that the random order is not truly random, but rather pseudo-random.\n",
        "\n",
        "df = df.reset_index(drop=True)\n",
        "# .reset_index() method resets the index of the data frame, and we use drop=True\n",
        "# to avoid the old index being added as a column"
      ]
    },
    {
      "cell_type": "code",
      "execution_count": null,
      "metadata": {
        "id": "Q_71SkQUql0F",
        "outputId": "e728e644-5cb7-4367-978f-3d3d48b258df"
      },
      "outputs": [
        {
          "name": "stdout",
          "output_type": "stream",
          "text": [
            "Language\n",
            "English       1385\n",
            "French        1014\n",
            "Spanish        819\n",
            "Portugeese     739\n",
            "Italian        698\n",
            "Russian        692\n",
            "Sweedish       676\n",
            "Malayalam      594\n",
            "Dutch          546\n",
            "Arabic         536\n",
            "Turkish        474\n",
            "German         470\n",
            "Tamil          469\n",
            "Danish         428\n",
            "Kannada        369\n",
            "Greek          365\n",
            "Hindi           63\n",
            "Name: count, dtype: int64\n"
          ]
        }
      ],
      "source": [
        "lang_counts = df[\"Language\"].value_counts()\n",
        "# .value_counts() method counts the number of rows with each unique value in the column\n",
        "# \"Language\" and returns a series with the counts\n",
        "\n",
        "print(lang_counts)"
      ]
    },
    {
      "cell_type": "code",
      "execution_count": null,
      "metadata": {
        "id": "aD6NfIc-ql0G"
      },
      "outputs": [],
      "source": [
        "import numpy as np\n",
        "from sklearn.feature_extraction.text import CountVectorizer\n",
        "from sklearn.model_selection import train_test_split\n",
        "\n",
        "X = np.array(df[\"Text\"])\n",
        "# this line converts the \"Text\" column into a numpy array and so does or the \"Language\" column\n",
        "y = np.array(df[\"Language\"])\n",
        "\n",
        "cv = CountVectorizer()\n",
        "# CountVectorizer() method converts a collection of text documents to a matrix of token counts\n",
        "# Each row represents a document in the collection, and each column represents a word in the vocabulary\n",
        "# The value in each cell is the number of times the word appears in that document\n",
        "\n",
        "X = cv.fit_transform(X)\n",
        "# the above line converts the \"Text\" column into a matrix of token counts\n",
        "\n",
        "X_train, X_test, y_train, y_test = train_test_split(X, y, test_size=0.2, random_state=0)\n",
        "# train_test_split() method splits the data into random train and test subsets\n",
        "# test_size=0.2 means 20% of the data is used for testing and 80% for training\n",
        "# random_state=0 means we get the same random order every time we run the code\n",
        "\n"
      ]
    },
    {
      "cell_type": "code",
      "execution_count": null,
      "metadata": {
        "id": "M2E3i8drql0I",
        "outputId": "d7cf3ff5-b371-4107-8a75-0413e2471794"
      },
      "outputs": [
        {
          "data": {
            "text/html": [
              "<style>#sk-container-id-1 {color: black;}#sk-container-id-1 pre{padding: 0;}#sk-container-id-1 div.sk-toggleable {background-color: white;}#sk-container-id-1 label.sk-toggleable__label {cursor: pointer;display: block;width: 100%;margin-bottom: 0;padding: 0.3em;box-sizing: border-box;text-align: center;}#sk-container-id-1 label.sk-toggleable__label-arrow:before {content: \"▸\";float: left;margin-right: 0.25em;color: #696969;}#sk-container-id-1 label.sk-toggleable__label-arrow:hover:before {color: black;}#sk-container-id-1 div.sk-estimator:hover label.sk-toggleable__label-arrow:before {color: black;}#sk-container-id-1 div.sk-toggleable__content {max-height: 0;max-width: 0;overflow: hidden;text-align: left;background-color: #f0f8ff;}#sk-container-id-1 div.sk-toggleable__content pre {margin: 0.2em;color: black;border-radius: 0.25em;background-color: #f0f8ff;}#sk-container-id-1 input.sk-toggleable__control:checked~div.sk-toggleable__content {max-height: 200px;max-width: 100%;overflow: auto;}#sk-container-id-1 input.sk-toggleable__control:checked~label.sk-toggleable__label-arrow:before {content: \"▾\";}#sk-container-id-1 div.sk-estimator input.sk-toggleable__control:checked~label.sk-toggleable__label {background-color: #d4ebff;}#sk-container-id-1 div.sk-label input.sk-toggleable__control:checked~label.sk-toggleable__label {background-color: #d4ebff;}#sk-container-id-1 input.sk-hidden--visually {border: 0;clip: rect(1px 1px 1px 1px);clip: rect(1px, 1px, 1px, 1px);height: 1px;margin: -1px;overflow: hidden;padding: 0;position: absolute;width: 1px;}#sk-container-id-1 div.sk-estimator {font-family: monospace;background-color: #f0f8ff;border: 1px dotted black;border-radius: 0.25em;box-sizing: border-box;margin-bottom: 0.5em;}#sk-container-id-1 div.sk-estimator:hover {background-color: #d4ebff;}#sk-container-id-1 div.sk-parallel-item::after {content: \"\";width: 100%;border-bottom: 1px solid gray;flex-grow: 1;}#sk-container-id-1 div.sk-label:hover label.sk-toggleable__label {background-color: #d4ebff;}#sk-container-id-1 div.sk-serial::before {content: \"\";position: absolute;border-left: 1px solid gray;box-sizing: border-box;top: 0;bottom: 0;left: 50%;z-index: 0;}#sk-container-id-1 div.sk-serial {display: flex;flex-direction: column;align-items: center;background-color: white;padding-right: 0.2em;padding-left: 0.2em;position: relative;}#sk-container-id-1 div.sk-item {position: relative;z-index: 1;}#sk-container-id-1 div.sk-parallel {display: flex;align-items: stretch;justify-content: center;background-color: white;position: relative;}#sk-container-id-1 div.sk-item::before, #sk-container-id-1 div.sk-parallel-item::before {content: \"\";position: absolute;border-left: 1px solid gray;box-sizing: border-box;top: 0;bottom: 0;left: 50%;z-index: -1;}#sk-container-id-1 div.sk-parallel-item {display: flex;flex-direction: column;z-index: 1;position: relative;background-color: white;}#sk-container-id-1 div.sk-parallel-item:first-child::after {align-self: flex-end;width: 50%;}#sk-container-id-1 div.sk-parallel-item:last-child::after {align-self: flex-start;width: 50%;}#sk-container-id-1 div.sk-parallel-item:only-child::after {width: 0;}#sk-container-id-1 div.sk-dashed-wrapped {border: 1px dashed gray;margin: 0 0.4em 0.5em 0.4em;box-sizing: border-box;padding-bottom: 0.4em;background-color: white;}#sk-container-id-1 div.sk-label label {font-family: monospace;font-weight: bold;display: inline-block;line-height: 1.2em;}#sk-container-id-1 div.sk-label-container {text-align: center;}#sk-container-id-1 div.sk-container {/* jupyter's `normalize.less` sets `[hidden] { display: none; }` but bootstrap.min.css set `[hidden] { display: none !important; }` so we also need the `!important` here to be able to override the default hidden behavior on the sphinx rendered scikit-learn.org. See: https://github.com/scikit-learn/scikit-learn/issues/21755 */display: inline-block !important;position: relative;}#sk-container-id-1 div.sk-text-repr-fallback {display: none;}</style><div id=\"sk-container-id-1\" class=\"sk-top-container\"><div class=\"sk-text-repr-fallback\"><pre>MultinomialNB()</pre><b>In a Jupyter environment, please rerun this cell to show the HTML representation or trust the notebook. <br />On GitHub, the HTML representation is unable to render, please try loading this page with nbviewer.org.</b></div><div class=\"sk-container\" hidden><div class=\"sk-item\"><div class=\"sk-estimator sk-toggleable\"><input class=\"sk-toggleable__control sk-hidden--visually\" id=\"sk-estimator-id-1\" type=\"checkbox\" checked><label for=\"sk-estimator-id-1\" class=\"sk-toggleable__label sk-toggleable__label-arrow\">MultinomialNB</label><div class=\"sk-toggleable__content\"><pre>MultinomialNB()</pre></div></div></div></div></div>"
            ],
            "text/plain": [
              "MultinomialNB()"
            ]
          },
          "execution_count": 6,
          "metadata": {},
          "output_type": "execute_result"
        }
      ],
      "source": [
        "from sklearn.naive_bayes import MultinomialNB\n",
        "model = MultinomialNB()\n",
        "model.fit(X_train, y_train)"
      ]
    },
    {
      "cell_type": "markdown",
      "metadata": {
        "id": "DYVuV4NSql0J"
      },
      "source": [
        " MultinomialNB() method implements the naive Bayes algorithm for multinomially distributed data\n",
        " MultinomialNB() method is suitable for classification with discrete features (e.g., word counts for text classification)\n",
        " MultinomialNB() method takes one parameter: alpha\n",
        " alpha is a smoothing parameter (0 for no smoothing)\n",
        " for language detection, alpha=0 is the best choice\n",
        " for language detection we can also use Random Forest Classifier, Decision Tree Classifier, Logistic Regression, etc.\n",
        " but Naive Bayes Classifier is the best choice for language detection as it is faster and more accurate\n",
        " the reason for this is that Naive Bayes Classifier is based on Bayes' Theorem, which is a probability theorem\n"
      ]
    },
    {
      "cell_type": "code",
      "execution_count": null,
      "metadata": {
        "id": "Zi9it4Rnql0N",
        "outputId": "043705c6-bb4a-48b9-d65c-e3b6048cd614"
      },
      "outputs": [
        {
          "name": "stdout",
          "output_type": "stream",
          "text": [
            "the modelaccuracy is 0.9792069632495164\n"
          ]
        }
      ],
      "source": [
        "acc = model.score(X_test, y_test)\n",
        "print(f\"the modelaccuracy is {acc}\")"
      ]
    },
    {
      "cell_type": "code",
      "execution_count": null,
      "metadata": {
        "id": "aiyaFr3Uql0O",
        "outputId": "a2686186-a036-4ae7-f7d0-913e56fc9a3c"
      },
      "outputs": [
        {
          "name": "stdout",
          "output_type": "stream",
          "text": [
            "['Spanish']\n",
            "['English']\n",
            "['French']\n"
          ]
        }
      ],
      "source": [
        "while True:\n",
        "    user = input(\"Enter a sentence(or 'end' to exit): \")\n",
        "\n",
        "    if(user == \"end\") :\n",
        "        break\n",
        "\n",
        "    data = cv.transform([user]).toarray()\n",
        "    output = model.predict(data)\n",
        "    print(output)\n",
        "\n",
        "# the above code is for testing the model with user input"
      ]
    }
  ],
  "metadata": {
    "kernelspec": {
      "display_name": "Python 3",
      "language": "python",
      "name": "python3"
    },
    "language_info": {
      "codemirror_mode": {
        "name": "ipython",
        "version": 3
      },
      "file_extension": ".py",
      "mimetype": "text/x-python",
      "name": "python",
      "nbconvert_exporter": "python",
      "pygments_lexer": "ipython3",
      "version": "3.11.4"
    },
    "colab": {
      "provenance": [],
      "include_colab_link": true
    }
  },
  "nbformat": 4,
  "nbformat_minor": 0
}